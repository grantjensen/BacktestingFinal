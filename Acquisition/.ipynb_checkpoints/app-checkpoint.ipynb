{
 "cells": [
  {
   "cell_type": "code",
   "execution_count": null,
   "metadata": {},
   "outputs": [],
   "source": [
    "from kafka import KafkaProducer\n",
    "import requests\n",
    "import time\n",
    "import logging\n",
    "import argparse \n",
    "import os\n",
    "\n",
    "def main(args):\n",
    "    logging.info('brokers={}'.format(args.brokers))\n",
    "    logging.info('topic={}'.format(args.topic))\n",
    "    logging.info('creating kafka producer')    \n",
    "    producer = KafkaProducer(bootstrap_servers=args.brokers,\n",
    "                             value_serializer=lambda x: \n",
    "                             dumps(x).encode('utf-8'))\n",
    "    old_time=int(time.time())-60\n",
    "    while(True):\n",
    "        new_time=int(time.time())\n",
    "        if(new_time>=old_time+60):#Check for new minute candlestick data every 60 seconds\n",
    "            data=requests.get('https://finnhub.io/api/v1/stock/candle?symbol=SPY&resolution=1&from='+new_time-60+'&to='+new_time+'&token=brmf0inrh5re15om3qog')\n",
    "            logging.info(data)#Print data\n",
    "            producer.send(args.topic, value=data)#Send data to Kafka\n",
    "            \n",
    "            \n",
    "def get_arg(env, default):\n",
    "    return os.getenv(env) if os.getenv(env, \"\") != \"\" else default\n",
    "            \n",
    "def parse_args(parser):\n",
    "    args = parser.parse_args()\n",
    "    args.brokers = get_arg('KAFKA_BROKERS', args.brokers)\n",
    "    args.topic = get_arg('KAFKA_TOPIC', args.topic)\n",
    "    return args\n",
    "            \n",
    "if __name__ == '__main__':\n",
    "    logging.basicConfig(level=logging.INFO)\n",
    "    logging.info('starting kafka-python producer')\n",
    "    parser = argparse.ArgumentParser(description='parser for topic and broker')\n",
    "    parser.add_argument(\n",
    "            '--brokers',\n",
    "            help='The bootstrap servers, env variable KAFKA_BROKERS',\n",
    "            default='kafka:9092')\n",
    "    parser.add_argument(\n",
    "            '--topic',\n",
    "            help='Topic to write to, env variable KAFKA_TOPIC',\n",
    "            default='benign-images')\n",
    "    cmdline_args = parse_args(parser)\n",
    "    main(cmdline_args)\n",
    "    logging.info('exiting')"
   ]
  }
 ],
 "metadata": {
  "kernelspec": {
   "display_name": "Python 3",
   "language": "python",
   "name": "python3"
  },
  "language_info": {
   "codemirror_mode": {
    "name": "ipython",
    "version": 3
   },
   "file_extension": ".py",
   "mimetype": "text/x-python",
   "name": "python",
   "nbconvert_exporter": "python",
   "pygments_lexer": "ipython3",
   "version": "3.8.5"
  }
 },
 "nbformat": 4,
 "nbformat_minor": 4
}
